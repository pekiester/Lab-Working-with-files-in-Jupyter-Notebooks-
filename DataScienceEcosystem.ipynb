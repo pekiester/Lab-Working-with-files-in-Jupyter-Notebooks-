{
  "metadata": {
    "kernelspec": {
      "name": "python",
      "display_name": "Python (Pyodide)",
      "language": "python"
    },
    "language_info": {
      "codemirror_mode": {
        "name": "python",
        "version": 3
      },
      "file_extension": ".py",
      "mimetype": "text/x-python",
      "name": "python",
      "nbconvert_exporter": "python",
      "pygments_lexer": "ipython3",
      "version": "3.8"
    }
  },
  "nbformat_minor": 5,
  "nbformat": 4,
  "cells": [
    {
      "id": "2725aaaf-5073-4a5e-bd3f-3a4d6cd902e2",
      "cell_type": "markdown",
      "source": "# Data Science Tools and Ecosystem",
      "metadata": {}
    },
    {
      "id": "444752fa-5159-4c63-b156-ddc6dcf0db06",
      "cell_type": "markdown",
      "source": "In this notebook, Data Science Tools and Ecosystem are summarized.",
      "metadata": {}
    },
    {
      "id": "3c7f6b6d-9131-4a53-be6d-6e44cc36c055",
      "cell_type": "markdown",
      "source": "**objectives:**\n- python\n- R\n- scala",
      "metadata": {}
    },
    {
      "id": "6ae7bde4-34f8-45b7-b1ab-001106c0519e",
      "cell_type": "markdown",
      "source": "Some of the popular languages that Data Scientists use are: 1.Python\n2.R\n3.SQL",
      "metadata": {}
    },
    {
      "id": "d9408139-9272-42e3-ad4a-e460eaa04e8a",
      "cell_type": "markdown",
      "source": "Some of the commonly used libraries used by Data Scientists include: \n\n1.numpy  2.pandas  3.scikit-learn",
      "metadata": {}
    },
    {
      "id": "9d6fc58b-0610-4130-99e9-36f5a0b860c0",
      "cell_type": "markdown",
      "source": "Data Science Tools\n\n| Opensource |\n| --- |\n| jupyter notebook |\n| jupyterlab |\n| github |",
      "metadata": {}
    },
    {
      "id": "523f79e0-258a-431b-a6f0-98a603795325",
      "cell_type": "markdown",
      "source": "### Below are a few examples of evaluating arithmetic expressions in Python",
      "metadata": {}
    },
    {
      "id": "2cca53a1-923c-469c-be9e-ed421827ff5f",
      "cell_type": "markdown",
      "source": "This a simple arithmetic expression to mutiply then add integers",
      "metadata": {}
    },
    {
      "id": "a1a23fac-b588-4c71-b20f-fcb0a951c15e",
      "cell_type": "code",
      "source": "(3*4)+5",
      "metadata": {
        "trusted": true
      },
      "outputs": [
        {
          "execution_count": 3,
          "output_type": "execute_result",
          "data": {
            "text/plain": "17"
          },
          "metadata": {}
        }
      ],
      "execution_count": 3
    },
    {
      "id": "c5f8b36c-8ac3-4dd5-b2ba-721873ff9fc9",
      "cell_type": "markdown",
      "source": "This will convert 200 minutes to hours by diving by 60",
      "metadata": {}
    },
    {
      "id": "2dd7bd0f-dbee-49a7-9549-d899a39068c0",
      "cell_type": "code",
      "source": "total_minutes = 200\n\nhours = total_minutes // 60\nminutes = total_minutes % 60\n\nprint(f\"{hours} hours {minutes} minutes\")",
      "metadata": {
        "trusted": true
      },
      "outputs": [
        {
          "name": "stdout",
          "output_type": "stream",
          "text": "3 hours 20 minutes\n"
        }
      ],
      "execution_count": 5
    },
    {
      "id": "435aebc7-b99c-44d8-88c3-a69d9472f173",
      "cell_type": "markdown",
      "source": "## Author's <br>Chavayote Madarat",
      "metadata": {}
    },
    {
      "id": "3432a3fa-723d-4ad8-a2c0-524da9ff3358",
      "cell_type": "code",
      "source": "",
      "metadata": {
        "trusted": true
      },
      "outputs": [],
      "execution_count": null
    }
  ]
}